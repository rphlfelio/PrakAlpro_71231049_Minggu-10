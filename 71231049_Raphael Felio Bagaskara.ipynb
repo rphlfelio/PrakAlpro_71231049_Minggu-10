{
 "cells": [
  {
   "cell_type": "code",
   "execution_count": 6,
   "id": "a0a9f9c0",
   "metadata": {},
   "outputs": [
    {
     "name": "stdout",
     "output_type": "stream",
     "text": [
      "masukkan bilangan : 7\n",
      "masukkan bilangan : 8\n",
      "masukkan bilangan : 9\n",
      "masukkan bilangan : 12\n",
      "masukkan bilangan : 17\n",
      "masukkan bilangan : done\n",
      "Selesai\n",
      "nilai max =  17 \n",
      " NIlai min =  7\n"
     ]
    }
   ],
   "source": [
    "#Latihan 9.2\n",
    "nilai = []\n",
    "while True:\n",
    "    try:\n",
    "        bil = eval(input(\"masukkan bilangan : \"))\n",
    "        if bil<= 0 or bil > 0:\n",
    "            nilai.append(bil)\n",
    "    except:\n",
    "        print('Selesai')\n",
    "        break\n",
    "print('nilai max = ',max(nilai),\"\\n NIlai min = \",min(nilai))"
   ]
  },
  {
   "cell_type": "code",
   "execution_count": 12,
   "id": "eb603b1b",
   "metadata": {},
   "outputs": [
    {
     "name": "stdout",
     "output_type": "stream",
     "text": [
      "12\n",
      "10\n",
      "9\n"
     ]
    }
   ],
   "source": [
    "#Latihan 9.1\n",
    "bil = [1,3,5,6,7,9,10,12]\n",
    "bil.sort(reverse = True)\n",
    "list = []\n",
    "for i in bil:\n",
    "    if i not in list:\n",
    "        list.append(i)\n",
    "print(list[0])\n",
    "print(list[1])\n",
    "print(list[2])"
   ]
  },
  {
   "cell_type": "code",
   "execution_count": 22,
   "id": "33dea41e",
   "metadata": {},
   "outputs": [
    {
     "name": "stdout",
     "output_type": "stream",
     "text": [
      "['Bola.net', '-', 'Kesuksesan', 'Real', 'Madrid', 'melaju', 'ke', 'semifinal', 'Liga', 'Champions', 'tak', 'bisa', 'dilepaskan', 'dari', 'kontribusi', 'Andriy', 'Lunin.', 'Kiper', 'asal', 'Ukraina', 'itu', 'menjadi', 'pahlawan', 'timnya', 'saat', 'menyingkirkan', 'Manchester', 'City', 'di', 'perempat', 'final.', 'sukses', '2023/2024', 'usai', 'lewat', 'drama', 'adu', 'penalti', '4-3', 'dalam', 'laga', 'leg', 'kedua', 'final', 'Etihad', 'Stadium,', 'Kamis', '(18/4/2024)', 'dini', 'hari', 'WIB.', 'Bermain', 'imbang', '3-3', 'pertama,', 'berani', 'langsung', 'bermain', 'agresif', 'sejak', 'awal', 'laga.', 'Los', 'Blancos', 'pun', 'unggul', 'cepat', 'gol', 'Rodrygo', 'ketika', 'baru', 'berjalan', '12', 'menit.']\n"
     ]
    }
   ],
   "source": [
    "#Latihan 9.3\n",
    "handle = open('berita.txt')\n",
    "hasil = handle.read()\n",
    "hasil = hasil.split()\n",
    "kata = []\n",
    "for unik in hasil:\n",
    "    if unik not in kata:\n",
    "        kata.append(unik)\n",
    "print(kata)"
   ]
  },
  {
   "cell_type": "code",
   "execution_count": null,
   "id": "274cba8f",
   "metadata": {},
   "outputs": [],
   "source": []
  }
 ],
 "metadata": {
  "kernelspec": {
   "display_name": "Python 3 (ipykernel)",
   "language": "python",
   "name": "python3"
  },
  "language_info": {
   "codemirror_mode": {
    "name": "ipython",
    "version": 3
   },
   "file_extension": ".py",
   "mimetype": "text/x-python",
   "name": "python",
   "nbconvert_exporter": "python",
   "pygments_lexer": "ipython3",
   "version": "3.11.5"
  }
 },
 "nbformat": 4,
 "nbformat_minor": 5
}
